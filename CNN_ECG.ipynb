{
 "cells": [
  {
   "cell_type": "code",
   "execution_count": 1,
   "metadata": {
    "id": "dn7MbzIq0TPd"
   },
   "outputs": [],
   "source": [
    "#IMAGE PROCESSING"
   ]
  },
  {
   "cell_type": "code",
   "execution_count": 2,
   "metadata": {
    "id": "8kTH8QcI0dpW"
   },
   "outputs": [],
   "source": [
    "from tensorflow.keras.preprocessing.image import ImageDataGenerator"
   ]
  },
  {
   "cell_type": "code",
   "execution_count": 3,
   "metadata": {
    "id": "4auo4xpZz-Yh"
   },
   "outputs": [],
   "source": [
    "from tensorflow.keras.models import Sequential\n",
    "from tensorflow.keras.layers import Dense\n",
    "from tensorflow.keras.layers import Convolution2D\n",
    "from tensorflow.keras.layers import MaxPooling2D\n",
    "from tensorflow.keras.layers import Flatten"
   ]
  },
  {
   "cell_type": "code",
   "execution_count": 4,
   "metadata": {
    "id": "_PI7e9OQ0hly"
   },
   "outputs": [],
   "source": [
    "train_datagen = ImageDataGenerator(rescale = 1./255,shear_range = 0.2,zoom_range = 0.2,horizontal_flip = True)\n",
    "test_datagen = ImageDataGenerator(rescale = 1./255)"
   ]
  },
  {
   "cell_type": "code",
   "execution_count": 5,
   "metadata": {
    "colab": {
     "base_uri": "https://localhost:8080/"
    },
    "id": "yKk-WdL40p7N",
    "outputId": "9156b7de-9989-4279-d4eb-5b75faddc99c"
   },
   "outputs": [
    {
     "name": "stdout",
     "output_type": "stream",
     "text": [
      "Found 15341 images belonging to 6 classes.\n",
      "Found 6825 images belonging to 6 classes.\n"
     ]
    }
   ],
   "source": [
    "x_train = train_datagen.flow_from_directory(r\"C:\\Users\\Raj\\Desktop\\SI-GuidedProject-78335-1656736746-main\\data\\train\",target_size = (64,64),batch_size = 32,class_mode = \"categorical\")\n",
    "x_test = test_datagen.flow_from_directory(r\"C:\\Users\\Raj\\Desktop\\SI-GuidedProject-78335-1656736746-main\\data\\test\",target_size = (64,64),batch_size = 32,class_mode = \"categorical\")"
   ]
  },
  {
   "cell_type": "code",
   "execution_count": 6,
   "metadata": {
    "colab": {
     "base_uri": "https://localhost:8080/"
    },
    "id": "TRGQQvKW06f3",
    "outputId": "ab2b714f-0aec-4245-c778-80fc25d50b8c"
   },
   "outputs": [
    {
     "data": {
      "text/plain": [
       "{'Left Bundle Branch Block': 0,\n",
       " 'Normal': 1,\n",
       " 'Premature Atrial Contraction': 2,\n",
       " 'Premature Ventricular Contractions': 3,\n",
       " 'Right Bundle Branch Block': 4,\n",
       " 'Ventricular Fibrillation': 5}"
      ]
     },
     "execution_count": 6,
     "metadata": {},
     "output_type": "execute_result"
    }
   ],
   "source": [
    "x_train.class_indices"
   ]
  },
  {
   "cell_type": "code",
   "execution_count": 7,
   "metadata": {
    "id": "nIoMiZfB095V"
   },
   "outputs": [],
   "source": [
    "#MODEL BUILDING"
   ]
  },
  {
   "cell_type": "code",
   "execution_count": 8,
   "metadata": {
    "id": "A9ZqWs2G1DQ1"
   },
   "outputs": [],
   "source": [
    "model = Sequential()"
   ]
  },
  {
   "cell_type": "code",
   "execution_count": 9,
   "metadata": {
    "id": "olPgi87b1F-x"
   },
   "outputs": [],
   "source": [
    "model.add(Convolution2D(32,(3,3),input_shape = (64,64,3),activation = \"relu\"))"
   ]
  },
  {
   "cell_type": "code",
   "execution_count": 10,
   "metadata": {
    "id": "Fw2kE_3s1LTD"
   },
   "outputs": [],
   "source": [
    "model.add(MaxPooling2D(pool_size = (2,2)))"
   ]
  },
  {
   "cell_type": "code",
   "execution_count": 11,
   "metadata": {
    "id": "EL1pWYoe1N9g"
   },
   "outputs": [],
   "source": [
    "model.add(Convolution2D(32,(3,3),activation='relu'))"
   ]
  },
  {
   "cell_type": "code",
   "execution_count": 12,
   "metadata": {
    "id": "x_9CdJFI1QKU"
   },
   "outputs": [],
   "source": [
    "model.add(MaxPooling2D(pool_size=(2,2)))"
   ]
  },
  {
   "cell_type": "code",
   "execution_count": 13,
   "metadata": {
    "id": "pwX6iqsw1SxG"
   },
   "outputs": [],
   "source": [
    "model.add(Flatten()) # ANN Input..."
   ]
  },
  {
   "cell_type": "code",
   "execution_count": 14,
   "metadata": {
    "id": "G7GA0bdt1X5N"
   },
   "outputs": [],
   "source": [
    "#Adding Dense Layers"
   ]
  },
  {
   "cell_type": "code",
   "execution_count": 15,
   "metadata": {
    "id": "-8rod8HD1amU"
   },
   "outputs": [],
   "source": [
    "model.add(Dense(units = 128,kernel_initializer = \"random_uniform\",activation = \"relu\"))"
   ]
  },
  {
   "cell_type": "code",
   "execution_count": 16,
   "metadata": {
    "id": "-vP7Jwgq1fHN"
   },
   "outputs": [],
   "source": [
    "model.add(Dense(units = 128,kernel_initializer = \"random_uniform\",activation = \"relu\"))"
   ]
  },
  {
   "cell_type": "code",
   "execution_count": 17,
   "metadata": {
    "id": "yQuHMkQc1f3I"
   },
   "outputs": [],
   "source": [
    "model.add(Dense(units = 128,kernel_initializer = \"random_uniform\",activation = \"relu\"))"
   ]
  },
  {
   "cell_type": "code",
   "execution_count": 18,
   "metadata": {
    "id": "JRuUAUIc1gUr"
   },
   "outputs": [],
   "source": [
    "model.add(Dense(units = 128,kernel_initializer = \"random_uniform\",activation = \"relu\"))"
   ]
  },
  {
   "cell_type": "code",
   "execution_count": 19,
   "metadata": {
    "id": "3Yvfl5zU1grF"
   },
   "outputs": [],
   "source": [
    "model.add(Dense(units = 128,kernel_initializer = \"random_uniform\",activation = \"relu\"))"
   ]
  },
  {
   "cell_type": "code",
   "execution_count": 20,
   "metadata": {
    "id": "RjPH0yz41hDj"
   },
   "outputs": [],
   "source": [
    "model.add(Dense(units = 6,kernel_initializer = \"random_uniform\",activation = \"softmax\"))"
   ]
  },
  {
   "cell_type": "code",
   "execution_count": 21,
   "metadata": {
    "colab": {
     "base_uri": "https://localhost:8080/"
    },
    "id": "Dc5pAahl1l1c",
    "outputId": "e509b73e-e86e-4836-8253-00ee3876394b"
   },
   "outputs": [
    {
     "name": "stdout",
     "output_type": "stream",
     "text": [
      "Model: \"sequential\"\n",
      "_________________________________________________________________\n",
      " Layer (type)                Output Shape              Param #   \n",
      "=================================================================\n",
      " conv2d (Conv2D)             (None, 62, 62, 32)        896       \n",
      "                                                                 \n",
      " max_pooling2d (MaxPooling2D  (None, 31, 31, 32)       0         \n",
      " )                                                               \n",
      "                                                                 \n",
      " conv2d_1 (Conv2D)           (None, 29, 29, 32)        9248      \n",
      "                                                                 \n",
      " max_pooling2d_1 (MaxPooling  (None, 14, 14, 32)       0         \n",
      " 2D)                                                             \n",
      "                                                                 \n",
      " flatten (Flatten)           (None, 6272)              0         \n",
      "                                                                 \n",
      " dense (Dense)               (None, 128)               802944    \n",
      "                                                                 \n",
      " dense_1 (Dense)             (None, 128)               16512     \n",
      "                                                                 \n",
      " dense_2 (Dense)             (None, 128)               16512     \n",
      "                                                                 \n",
      " dense_3 (Dense)             (None, 128)               16512     \n",
      "                                                                 \n",
      " dense_4 (Dense)             (None, 128)               16512     \n",
      "                                                                 \n",
      " dense_5 (Dense)             (None, 6)                 774       \n",
      "                                                                 \n",
      "=================================================================\n",
      "Total params: 879,910\n",
      "Trainable params: 879,910\n",
      "Non-trainable params: 0\n",
      "_________________________________________________________________\n"
     ]
    }
   ],
   "source": [
    "model.summary()"
   ]
  },
  {
   "cell_type": "code",
   "execution_count": 22,
   "metadata": {
    "id": "tJbhy3vh1qbB"
   },
   "outputs": [],
   "source": [
    "model.compile(optimizer='adam',loss='categorical_crossentropy',metrics=['accuracy'])"
   ]
  },
  {
   "cell_type": "code",
   "execution_count": 23,
   "metadata": {
    "colab": {
     "base_uri": "https://localhost:8080/",
     "height": 626
    },
    "id": "aeQcmnqb1vMh",
    "outputId": "364c5373-ea20-4448-c480-dbd5e7b1bfac"
   },
   "outputs": [
    {
     "name": "stderr",
     "output_type": "stream",
     "text": [
      "C:\\Users\\Raj\\AppData\\Local\\Temp\\ipykernel_24704\\2347427206.py:1: UserWarning: `Model.fit_generator` is deprecated and will be removed in a future version. Please use `Model.fit`, which supports generators.\n",
      "  model.fit_generator(generator=x_train,steps_per_epoch = len(x_train), epochs=15, validation_data=x_test,validation_steps = len(x_test))\n"
     ]
    },
    {
     "name": "stdout",
     "output_type": "stream",
     "text": [
      "Epoch 1/15\n",
      "480/480 [==============================] - 70s 143ms/step - loss: 1.4441 - accuracy: 0.4781 - val_loss: 1.7592 - val_accuracy: 0.3193\n",
      "Epoch 2/15\n",
      "480/480 [==============================] - 51s 105ms/step - loss: 1.0058 - accuracy: 0.6048 - val_loss: 1.0609 - val_accuracy: 0.6746\n",
      "Epoch 3/15\n",
      "480/480 [==============================] - 51s 106ms/step - loss: 0.3512 - accuracy: 0.8806 - val_loss: 0.6332 - val_accuracy: 0.8344\n",
      "Epoch 4/15\n",
      "480/480 [==============================] - 50s 105ms/step - loss: 0.2024 - accuracy: 0.9384 - val_loss: 0.4524 - val_accuracy: 0.8501\n",
      "Epoch 5/15\n",
      "480/480 [==============================] - 51s 107ms/step - loss: 0.1530 - accuracy: 0.9535 - val_loss: 0.6155 - val_accuracy: 0.8350\n",
      "Epoch 6/15\n",
      "480/480 [==============================] - 51s 107ms/step - loss: 0.1207 - accuracy: 0.9633 - val_loss: 0.6887 - val_accuracy: 0.8418\n",
      "Epoch 7/15\n",
      "480/480 [==============================] - 51s 107ms/step - loss: 0.1103 - accuracy: 0.9669 - val_loss: 0.6511 - val_accuracy: 0.8557\n",
      "Epoch 8/15\n",
      "480/480 [==============================] - 51s 107ms/step - loss: 0.0938 - accuracy: 0.9707 - val_loss: 0.5541 - val_accuracy: 0.8527\n",
      "Epoch 9/15\n",
      "480/480 [==============================] - 53s 110ms/step - loss: 0.0900 - accuracy: 0.9709 - val_loss: 0.4812 - val_accuracy: 0.8596\n",
      "Epoch 10/15\n",
      "480/480 [==============================] - 52s 107ms/step - loss: 0.0800 - accuracy: 0.9763 - val_loss: 0.8666 - val_accuracy: 0.8522\n",
      "Epoch 11/15\n",
      "480/480 [==============================] - 51s 106ms/step - loss: 0.0736 - accuracy: 0.9755 - val_loss: 0.7775 - val_accuracy: 0.8653\n",
      "Epoch 12/15\n",
      "480/480 [==============================] - 50s 105ms/step - loss: 0.0689 - accuracy: 0.9768 - val_loss: 0.6531 - val_accuracy: 0.8416\n",
      "Epoch 13/15\n",
      "480/480 [==============================] - 50s 105ms/step - loss: 0.0655 - accuracy: 0.9777 - val_loss: 0.5657 - val_accuracy: 0.8605\n",
      "Epoch 14/15\n",
      "480/480 [==============================] - 51s 106ms/step - loss: 0.0595 - accuracy: 0.9803 - val_loss: 0.5642 - val_accuracy: 0.8577\n",
      "Epoch 15/15\n",
      "480/480 [==============================] - 51s 105ms/step - loss: 0.0620 - accuracy: 0.9793 - val_loss: 0.7902 - val_accuracy: 0.8426\n"
     ]
    },
    {
     "data": {
      "text/plain": [
       "<keras.callbacks.History at 0x217b0fb76d0>"
      ]
     },
     "execution_count": 23,
     "metadata": {},
     "output_type": "execute_result"
    }
   ],
   "source": [
    "model.fit_generator(generator=x_train,steps_per_epoch = len(x_train), epochs=15, validation_data=x_test,validation_steps = len(x_test))"
   ]
  },
  {
   "cell_type": "code",
   "execution_count": 25,
   "metadata": {
    "id": "oT4IkiMb14dX"
   },
   "outputs": [],
   "source": [
    "#Saving Model.\n",
    "model.save('ECG.h5')"
   ]
  },
  {
   "cell_type": "code",
   "execution_count": 26,
   "metadata": {
    "id": "HRRvd3B34Ooh"
   },
   "outputs": [],
   "source": [
    "from tensorflow.keras.models import load_model\n",
    "from tensorflow.keras.preprocessing import image"
   ]
  },
  {
   "cell_type": "code",
   "execution_count": 27,
   "metadata": {
    "id": "G5dQnUG74bxg"
   },
   "outputs": [],
   "source": [
    "model=load_model('ECG.h5')"
   ]
  },
  {
   "cell_type": "code",
   "execution_count": 28,
   "metadata": {
    "id": "NUFjEwCX4ebE"
   },
   "outputs": [],
   "source": [
    "img=image.load_img(r\"C:\\Users\\Raj\\Desktop\\SI-GuidedProject-78335-1656736746-main\\training/Unknown_image.png\",target_size=(64,64))"
   ]
  },
  {
   "cell_type": "code",
   "execution_count": 29,
   "metadata": {
    "id": "xW7n8kHX5HVi"
   },
   "outputs": [],
   "source": [
    "x=image.img_to_array(img)"
   ]
  },
  {
   "cell_type": "code",
   "execution_count": 30,
   "metadata": {
    "id": "ZRy7SN0i5J2d"
   },
   "outputs": [],
   "source": [
    "import numpy as np"
   ]
  },
  {
   "cell_type": "code",
   "execution_count": 31,
   "metadata": {
    "id": "XfgpZ9I85PS0"
   },
   "outputs": [],
   "source": [
    "x=np.expand_dims(x,axis=0)"
   ]
  },
  {
   "cell_type": "code",
   "execution_count": 32,
   "metadata": {
    "colab": {
     "base_uri": "https://localhost:8080/"
    },
    "id": "N60aZ9xf5RI-",
    "outputId": "5dd6f938-3b8f-4db4-f2e9-d69767f55863"
   },
   "outputs": [
    {
     "name": "stdout",
     "output_type": "stream",
     "text": [
      "1/1 [==============================] - 0s 143ms/step\n"
     ]
    },
    {
     "data": {
      "text/plain": [
       "1"
      ]
     },
     "execution_count": 32,
     "metadata": {},
     "output_type": "execute_result"
    }
   ],
   "source": [
    "pred = model.predict(x)\n",
    "y_pred=np.argmax(pred)\n",
    "y_pred"
   ]
  },
  {
   "cell_type": "code",
   "execution_count": 33,
   "metadata": {
    "colab": {
     "base_uri": "https://localhost:8080/",
     "height": 36
    },
    "id": "U_zBt0iq5Tbd",
    "outputId": "2709e552-9a0d-4f58-9c29-c649b730bfcb"
   },
   "outputs": [
    {
     "data": {
      "text/plain": [
       "'Normal'"
      ]
     },
     "execution_count": 33,
     "metadata": {},
     "output_type": "execute_result"
    }
   ],
   "source": [
    "index=['left Bundle Branch block',\n",
    "       'Normal',\n",
    "       'Premature Atrial Contraction',\n",
    "       'Premature Ventricular Contraction',\n",
    "       'Right Bundle Branch Block',\n",
    "       'Ventricular Fibrillation']\n",
    "result = str(index[y_pred])\n",
    "result"
   ]
  },
  {
   "cell_type": "code",
   "execution_count": 34,
   "metadata": {},
   "outputs": [],
   "source": [
    "# Importing needed libraries\n",
    "import matplotlib.pyplot as plt\n",
    "import numpy as np\n",
    "\n",
    "from sklearn.metrics import classification_report, confusion_matrix, ConfusionMatrixDisplay"
   ]
  },
  {
   "cell_type": "code",
   "execution_count": 35,
   "metadata": {},
   "outputs": [
    {
     "name": "stdout",
     "output_type": "stream",
     "text": [
      "['Left Bundle Block', 'Normal', 'Premature Contraction', 'Premature Contractions', 'Right Branch Block', 'Ventricular Fibrillation']\n"
     ]
    }
   ],
   "source": [
    "# Defining list with labels\n",
    "labels = ['Left Bundle Block', 'Normal', 'Premature Contraction', 'Premature Contractions', 'Right Branch Block','Ventricular Fibrillation']\n",
    "\n",
    "print(labels)"
   ]
  },
  {
   "cell_type": "code",
   "execution_count": 36,
   "metadata": {},
   "outputs": [
    {
     "name": "stdout",
     "output_type": "stream",
     "text": [
      "[2 2 2 2 4 4 1 0 4 0 3 2 4 4 2 4 2 3 2 2 0 2 3 4 4 0 2 3 1 2 3 3 3 1 1 1 0\n",
      " 2 0 0 1 3 4 1 0 3 2 4 4 1 3 2 4 4 1 1 4 0 0 3 0 0 1 4 1 1 0 3 3 1 2 4 4 3\n",
      " 3 0 2 3 2 0 4 1 4 4 2 0 1 1 4 0 4 1 4 4 4 4 3 3 2 1]\n"
     ]
    }
   ],
   "source": [
    "\n",
    "y_true = np.random.randint(low=0, high=5, size=100, dtype=int)\n",
    "\n",
    "\n",
    "# Check point\n",
    "# Shwoing array\n",
    "print(y_true)"
   ]
  },
  {
   "cell_type": "code",
   "execution_count": 37,
   "metadata": {},
   "outputs": [
    {
     "name": "stdout",
     "output_type": "stream",
     "text": [
      "classes indexes: [0 1 2 3 4]\n",
      "\n",
      "\n",
      "classes frequency: [17 19 20 18 26]\n"
     ]
    }
   ],
   "source": [
    "\n",
    "classesIndexes, classesFrequency = np.unique(y_true, return_counts=True)\n",
    "\n",
    "\n",
    "# Printing frequency (number of samples) for every class\n",
    "print('classes indexes:' , classesIndexes)\n",
    "print('\\n')\n",
    "print('classes frequency:', classesFrequency)"
   ]
  },
  {
   "cell_type": "code",
   "execution_count": 38,
   "metadata": {},
   "outputs": [],
   "source": [
    "# Making copy of array with True classes' indexes\n",
    "y_predicted = np.copy(y_true)"
   ]
  },
  {
   "cell_type": "code",
   "execution_count": 39,
   "metadata": {},
   "outputs": [
    {
     "name": "stdout",
     "output_type": "stream",
     "text": [
      "[50 81 92 51 87 84 82 60 89 35 61 10 87  1 49 67 93 89 45 52 31 46 32 62\n",
      " 54]\n"
     ]
    }
   ],
   "source": [
    "# Choosing randomly 25% of classes to be changed\n",
    "ii = np.random.randint(low=0, high=len(y_true), size=int(0.25 * len(y_true)), dtype=int)\n",
    "\n",
    "\n",
    "# Check point\n",
    "# Showing chosen indexes\n",
    "print(ii)"
   ]
  },
  {
   "cell_type": "code",
   "execution_count": 40,
   "metadata": {},
   "outputs": [
    {
     "name": "stdout",
     "output_type": "stream",
     "text": [
      "index = 50, True class => 3, 3 <= Predicted class\n",
      "index = 81, True class => 1, 3 <= Predicted class\n",
      "index = 92, True class => 4, 4 <= Predicted class\n",
      "index = 51, True class => 2, 0 <= Predicted class\n",
      "index = 87, True class => 1, 4 <= Predicted class\n",
      "index = 84, True class => 2, 4 <= Predicted class\n",
      "index = 82, True class => 4, 4 <= Predicted class\n",
      "index = 60, True class => 0, 1 <= Predicted class\n",
      "index = 89, True class => 0, 1 <= Predicted class\n",
      "index = 35, True class => 1, 0 <= Predicted class\n",
      "index = 61, True class => 0, 2 <= Predicted class\n",
      "index = 10, True class => 3, 1 <= Predicted class\n",
      "index = 87, True class => 1, 1 <= Predicted class\n",
      "index =  1, True class => 2, 4 <= Predicted class\n",
      "index = 49, True class => 1, 0 <= Predicted class\n",
      "index = 67, True class => 3, 0 <= Predicted class\n",
      "index = 93, True class => 4, 2 <= Predicted class\n",
      "index = 89, True class => 0, 4 <= Predicted class\n",
      "index = 45, True class => 3, 4 <= Predicted class\n",
      "index = 52, True class => 4, 2 <= Predicted class\n",
      "index = 31, True class => 3, 0 <= Predicted class\n",
      "index = 46, True class => 2, 0 <= Predicted class\n",
      "index = 32, True class => 3, 4 <= Predicted class\n",
      "index = 62, True class => 1, 1 <= Predicted class\n",
      "index = 54, True class => 1, 1 <= Predicted class\n"
     ]
    }
   ],
   "source": [
    "for i in ii:\n",
    "    # Generating new class index\n",
    "    y_predicted[i] = np.random.randint(low=0, high=5, dtype=int)\n",
    "    \n",
    "    \n",
    "    # Check point\n",
    "    # Showing difference between True classes' indexes and Predicted ones\n",
    "    print('index = {0:2d}, True class => {1}, {2} <= Predicted class'.\n",
    "          format(i, y_true[i], y_predicted[i]))"
   ]
  },
  {
   "cell_type": "code",
   "execution_count": 41,
   "metadata": {},
   "outputs": [
    {
     "name": "stdout",
     "output_type": "stream",
     "text": [
      "[[14  1  1  0  1]\n",
      " [ 2 16  0  1  0]\n",
      " [ 2  0 16  0  2]\n",
      " [ 2  1  0 13  2]\n",
      " [ 0  0  2  0 24]]\n"
     ]
    }
   ],
   "source": [
    "# Computing Confusion Matrix to evaluate accuracy of classification\n",
    "c_m = confusion_matrix(y_true, y_predicted)\n",
    "\n",
    "# Showing Confusion Matrix in form of 2D Numpy array\n",
    "print(c_m)"
   ]
  },
  {
   "cell_type": "code",
   "execution_count": 42,
   "metadata": {
    "scrolled": false
   },
   "outputs": [],
   "source": [
    "import matplotlib.pyplot as plt\n",
    "\n",
    "def plot_confusion_matrix(cm, classes,\n",
    "                          normalize=False,\n",
    "                          title='Confusion matrix',\n",
    "                          cmap=plt.cm.Blues):\n",
    "\n",
    "    plt.imshow(cm, interpolation='nearest', cmap=cmap)\n",
    "    plt.title(title)\n",
    "    plt.colorbar()\n",
    "    tick_marks = np.arange(len(classes))\n",
    "    plt.xticks(tick_marks, classes, rotation=45)\n",
    "    plt.yticks(tick_marks, classes)\n",
    "    plt.figure(figsize=(30, 30))\n",
    "\n",
    "    if normalize:\n",
    "        cm = cm.astype('float') / cm.sum(axis=1)[:, np.newaxis]\n",
    "        print(\"Normalized confusion matrix\")\n",
    "    else:\n",
    "        print('Confusion matrix, without normalization')\n",
    "\n",
    "    thresh = cm.max() / 2.\n",
    "    for i, j in itertools.product(range(cm.shape[0]), range(cm.shape[1])):\n",
    "        plt.text(j, i, cm[i, j],\n",
    "                 horizontalalignment=\"center\",\n",
    "                 color=\"white\" if cm[i, j] > thresh else \"black\")\n",
    "\n",
    "    plt.tight_layout()\n",
    "    plt.ylabel('True label')\n",
    "    plt.xlabel('Predicted label')"
   ]
  },
  {
   "cell_type": "code",
   "execution_count": 43,
   "metadata": {},
   "outputs": [
    {
     "name": "stdout",
     "output_type": "stream",
     "text": [
      "Confusion matrix, without normalization\n"
     ]
    },
    {
     "ename": "NameError",
     "evalue": "name 'itertools' is not defined",
     "output_type": "error",
     "traceback": [
      "\u001b[1;31m---------------------------------------------------------------------------\u001b[0m",
      "\u001b[1;31mNameError\u001b[0m                                 Traceback (most recent call last)",
      "Cell \u001b[1;32mIn[43], line 1\u001b[0m\n\u001b[1;32m----> 1\u001b[0m \u001b[43mplot_confusion_matrix\u001b[49m\u001b[43m(\u001b[49m\u001b[43mc_m\u001b[49m\u001b[43m,\u001b[49m\u001b[43mlabels\u001b[49m\u001b[43m)\u001b[49m\n",
      "Cell \u001b[1;32mIn[42], line 23\u001b[0m, in \u001b[0;36mplot_confusion_matrix\u001b[1;34m(cm, classes, normalize, title, cmap)\u001b[0m\n\u001b[0;32m     20\u001b[0m     \u001b[38;5;28mprint\u001b[39m(\u001b[38;5;124m'\u001b[39m\u001b[38;5;124mConfusion matrix, without normalization\u001b[39m\u001b[38;5;124m'\u001b[39m)\n\u001b[0;32m     22\u001b[0m thresh \u001b[38;5;241m=\u001b[39m cm\u001b[38;5;241m.\u001b[39mmax() \u001b[38;5;241m/\u001b[39m \u001b[38;5;241m2.\u001b[39m\n\u001b[1;32m---> 23\u001b[0m \u001b[38;5;28;01mfor\u001b[39;00m i, j \u001b[38;5;129;01min\u001b[39;00m \u001b[43mitertools\u001b[49m\u001b[38;5;241m.\u001b[39mproduct(\u001b[38;5;28mrange\u001b[39m(cm\u001b[38;5;241m.\u001b[39mshape[\u001b[38;5;241m0\u001b[39m]), \u001b[38;5;28mrange\u001b[39m(cm\u001b[38;5;241m.\u001b[39mshape[\u001b[38;5;241m1\u001b[39m])):\n\u001b[0;32m     24\u001b[0m     plt\u001b[38;5;241m.\u001b[39mtext(j, i, cm[i, j],\n\u001b[0;32m     25\u001b[0m              horizontalalignment\u001b[38;5;241m=\u001b[39m\u001b[38;5;124m\"\u001b[39m\u001b[38;5;124mcenter\u001b[39m\u001b[38;5;124m\"\u001b[39m,\n\u001b[0;32m     26\u001b[0m              color\u001b[38;5;241m=\u001b[39m\u001b[38;5;124m\"\u001b[39m\u001b[38;5;124mwhite\u001b[39m\u001b[38;5;124m\"\u001b[39m \u001b[38;5;28;01mif\u001b[39;00m cm[i, j] \u001b[38;5;241m>\u001b[39m thresh \u001b[38;5;28;01melse\u001b[39;00m \u001b[38;5;124m\"\u001b[39m\u001b[38;5;124mblack\u001b[39m\u001b[38;5;124m\"\u001b[39m)\n\u001b[0;32m     28\u001b[0m plt\u001b[38;5;241m.\u001b[39mtight_layout()\n",
      "\u001b[1;31mNameError\u001b[0m: name 'itertools' is not defined"
     ]
    },
    {
     "data": {
      "image/png": "[encoded data removed]",
      "text/plain": [
       "<Figure size 640x480 with 2 Axes>"
      ]
     },
     "metadata": {},
     "output_type": "display_data"
    },
    {
     "data": {
      "text/plain": [
       "<Figure size 3000x3000 with 0 Axes>"
      ]
     },
     "metadata": {},
     "output_type": "display_data"
    }
   ],
   "source": [
    "plot_confusion_matrix(c_m,labels)"
   ]
  },
  {
   "cell_type": "code",
   "execution_count": 51,
   "metadata": {},
   "outputs": [
    {
     "name": "stdout",
     "output_type": "stream",
     "text": [
      "4.187151787514764\n",
      "4.110933820221746\n",
      "[14 16 16 13 24]\n"
     ]
    }
   ],
   "source": [
    "import numpy as np\n",
    "true_pos = np.diag(c_m)\n",
    "false_pos = np.sum(c_m, axis=0) - true_pos\n",
    "false_neg = np.sum(c_m, axis=1) - true_pos\n",
    "\n",
    "\n",
    "precision = np.sum(true_pos / (true_pos + false_pos))\n",
    "recall = np.sum(true_pos / (true_pos + false_neg))\n",
    "\n",
    "true_pos = np.diag(c_m)\n",
    "\n",
    "print(precision)\n",
    "print(recall)\n",
    "print(true_pos)\n"
   ]
  },
  {
   "cell_type": "code",
   "execution_count": null,
   "metadata": {},
   "outputs": [],
   "source": []
  }
 ],
 "metadata": {
  "colab": {
   "name": "CNN_ECG.ipynb",
   "provenance": []
  },
  "kernelspec": {
   "display_name": "Python 3 (ipykernel)",
   "language": "python",
   "name": "python3"
  },
  "language_info": {
   "codemirror_mode": {
    "name": "ipython",
    "version": 3
   },
   "file_extension": ".py",
   "mimetype": "text/x-python",
   "name": "python",
   "nbconvert_exporter": "python",
   "pygments_lexer": "ipython3",
   "version": "3.11.2"
  }
 },
 "nbformat": 4,
 "nbformat_minor": 1
}

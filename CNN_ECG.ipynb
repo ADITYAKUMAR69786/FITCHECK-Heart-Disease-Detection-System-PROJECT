{
 "cells": [
  {
   "cell_type": "code",
   "execution_count": 19,
   "metadata": {
    "id": "dn7MbzIq0TPd"
   },
   "outputs": [],
   "source": [
    "#IMAGE PROCESSING"
   ]
  },
  {
   "cell_type": "code",
   "execution_count": 5,
   "metadata": {
    "id": "8kTH8QcI0dpW"
   },
   "outputs": [],
   "source": [
    "from tensorflow.keras.preprocessing.image import ImageDataGenerator"
   ]
  },
  {
   "cell_type": "code",
   "execution_count": 6,
   "metadata": {
    "id": "4auo4xpZz-Yh"
   },
   "outputs": [],
   "source": [
    "from tensorflow.keras.models import Sequential\n",
    "from tensorflow.keras.layers import Dense\n",
    "from tensorflow.keras.layers import Convolution2D\n",
    "from tensorflow.keras.layers import MaxPooling2D\n",
    "from tensorflow.keras.layers import Flatten"
   ]
  },
  {
   "cell_type": "code",
   "execution_count": 7,
   "metadata": {
    "id": "_PI7e9OQ0hly"
   },
   "outputs": [],
   "source": [
    "train_datagen = ImageDataGenerator(rescale = 1./255,shear_range = 0.2,zoom_range = 0.2,horizontal_flip = True)\n",
    "test_datagen = ImageDataGenerator(rescale = 1./255)"
   ]
  },
  {
   "cell_type": "code",
   "execution_count": 21,
   "metadata": {
    "colab": {
     "base_uri": "https://localhost:8080/"
    },
    "id": "yKk-WdL40p7N",
    "outputId": "9156b7de-9989-4279-d4eb-5b75faddc99c"
   },
   "outputs": [
    {
     "name": "stdout",
     "output_type": "stream",
     "text": [
      "Found 15341 images belonging to 6 classes.\n",
      "Found 6825 images belonging to 6 classes.\n"
     ]
    }
   ],
   "source": [
    "x_train = train_datagen.flow_from_directory(r\"C:\\Users\\Raj\\Desktop\\SI-GuidedProject-78335-1656736746-main\\data\\train\",target_size = (64,64),batch_size = 32,class_mode = \"categorical\")\n",
    "x_test = test_datagen.flow_from_directory(r\"C:\\Users\\Raj\\Desktop\\SI-GuidedProject-78335-1656736746-main\\data\\test\",target_size = (64,64),batch_size = 32,class_mode = \"categorical\")"
   ]
  },
  {
   "cell_type": "code",
   "execution_count": 22,
   "metadata": {
    "colab": {
     "base_uri": "https://localhost:8080/"
    },
    "id": "TRGQQvKW06f3",
    "outputId": "ab2b714f-0aec-4245-c778-80fc25d50b8c"
   },
   "outputs": [
    {
     "data": {
      "text/plain": [
       "{'Left Bundle Branch Block': 0,\n",
       " 'Normal': 1,\n",
       " 'Premature Atrial Contraction': 2,\n",
       " 'Premature Ventricular Contractions': 3,\n",
       " 'Right Bundle Branch Block': 4,\n",
       " 'Ventricular Fibrillation': 5}"
      ]
     },
     "execution_count": 22,
     "metadata": {},
     "output_type": "execute_result"
    }
   ],
   "source": [
    "x_train.class_indices"
   ]
  },
  {
   "cell_type": "code",
   "execution_count": 23,
   "metadata": {
    "id": "nIoMiZfB095V"
   },
   "outputs": [],
   "source": [
    "#MODEL BUILDING"
   ]
  },
  {
   "cell_type": "code",
   "execution_count": 24,
   "metadata": {
    "id": "A9ZqWs2G1DQ1"
   },
   "outputs": [],
   "source": [
    "model = Sequential()"
   ]
  },
  {
   "cell_type": "code",
   "execution_count": 25,
   "metadata": {
    "id": "olPgi87b1F-x"
   },
   "outputs": [],
   "source": [
    "model.add(Convolution2D(32,(3,3),input_shape = (64,64,3),activation = \"relu\"))"
   ]
  },
  {
   "cell_type": "code",
   "execution_count": 26,
   "metadata": {
    "id": "Fw2kE_3s1LTD"
   },
   "outputs": [],
   "source": [
    "model.add(MaxPooling2D(pool_size = (2,2)))"
   ]
  },
  {
   "cell_type": "code",
   "execution_count": 27,
   "metadata": {
    "id": "EL1pWYoe1N9g"
   },
   "outputs": [],
   "source": [
    "model.add(Convolution2D(32,(3,3),activation='relu'))"
   ]
  },
  {
   "cell_type": "code",
   "execution_count": 28,
   "metadata": {
    "id": "x_9CdJFI1QKU"
   },
   "outputs": [],
   "source": [
    "model.add(MaxPooling2D(pool_size=(2,2)))"
   ]
  },
  {
   "cell_type": "code",
   "execution_count": 29,
   "metadata": {
    "id": "pwX6iqsw1SxG"
   },
   "outputs": [],
   "source": [
    "model.add(Flatten()) # ANN Input..."
   ]
  },
  {
   "cell_type": "code",
   "execution_count": 30,
   "metadata": {
    "id": "G7GA0bdt1X5N"
   },
   "outputs": [],
   "source": [
    "#Adding Dense Layers"
   ]
  },
  {
   "cell_type": "code",
   "execution_count": 31,
   "metadata": {
    "id": "-8rod8HD1amU"
   },
   "outputs": [],
   "source": [
    "model.add(Dense(units = 128,kernel_initializer = \"random_uniform\",activation = \"relu\"))"
   ]
  },
  {
   "cell_type": "code",
   "execution_count": 32,
   "metadata": {
    "id": "-vP7Jwgq1fHN"
   },
   "outputs": [],
   "source": [
    "model.add(Dense(units = 128,kernel_initializer = \"random_uniform\",activation = \"relu\"))"
   ]
  },
  {
   "cell_type": "code",
   "execution_count": 33,
   "metadata": {
    "id": "yQuHMkQc1f3I"
   },
   "outputs": [],
   "source": [
    "model.add(Dense(units = 128,kernel_initializer = \"random_uniform\",activation = \"relu\"))"
   ]
  },
  {
   "cell_type": "code",
   "execution_count": 34,
   "metadata": {
    "id": "JRuUAUIc1gUr"
   },
   "outputs": [],
   "source": [
    "model.add(Dense(units = 128,kernel_initializer = \"random_uniform\",activation = \"relu\"))"
   ]
  },
  {
   "cell_type": "code",
   "execution_count": 35,
   "metadata": {
    "id": "3Yvfl5zU1grF"
   },
   "outputs": [],
   "source": [
    "model.add(Dense(units = 128,kernel_initializer = \"random_uniform\",activation = \"relu\"))"
   ]
  },
  {
   "cell_type": "code",
   "execution_count": 36,
   "metadata": {
    "id": "RjPH0yz41hDj"
   },
   "outputs": [],
   "source": [
    "model.add(Dense(units = 6,kernel_initializer = \"random_uniform\",activation = \"softmax\"))"
   ]
  },
  {
   "cell_type": "code",
   "execution_count": 37,
   "metadata": {
    "colab": {
     "base_uri": "https://localhost:8080/"
    },
    "id": "Dc5pAahl1l1c",
    "outputId": "e509b73e-e86e-4836-8253-00ee3876394b"
   },
   "outputs": [
    {
     "name": "stdout",
     "output_type": "stream",
     "text": [
      "Model: \"sequential\"\n",
      "_________________________________________________________________\n",
      " Layer (type)                Output Shape              Param #   \n",
      "=================================================================\n",
      " conv2d (Conv2D)             (None, 62, 62, 32)        896       \n",
      "                                                                 \n",
      " max_pooling2d (MaxPooling2D  (None, 31, 31, 32)       0         \n",
      " )                                                               \n",
      "                                                                 \n",
      " conv2d_1 (Conv2D)           (None, 29, 29, 32)        9248      \n",
      "                                                                 \n",
      " max_pooling2d_1 (MaxPooling  (None, 14, 14, 32)       0         \n",
      " 2D)                                                             \n",
      "                                                                 \n",
      " flatten (Flatten)           (None, 6272)              0         \n",
      "                                                                 \n",
      " dense (Dense)               (None, 128)               802944    \n",
      "                                                                 \n",
      " dense_1 (Dense)             (None, 128)               16512     \n",
      "                                                                 \n",
      " dense_2 (Dense)             (None, 128)               16512     \n",
      "                                                                 \n",
      " dense_3 (Dense)             (None, 128)               16512     \n",
      "                                                                 \n",
      " dense_4 (Dense)             (None, 128)               16512     \n",
      "                                                                 \n",
      " dense_5 (Dense)             (None, 6)                 774       \n",
      "                                                                 \n",
      "=================================================================\n",
      "Total params: 879,910\n",
      "Trainable params: 879,910\n",
      "Non-trainable params: 0\n",
      "_________________________________________________________________\n"
     ]
    }
   ],
   "source": [
    "model.summary()"
   ]
  },
  {
   "cell_type": "code",
   "execution_count": 38,
   "metadata": {
    "id": "tJbhy3vh1qbB"
   },
   "outputs": [],
   "source": [
    "model.compile(optimizer='adam',loss='categorical_crossentropy',metrics=['accuracy'])"
   ]
  },
  {
   "cell_type": "code",
   "execution_count": 39,
   "metadata": {
    "colab": {
     "base_uri": "https://localhost:8080/",
     "height": 626
    },
    "id": "aeQcmnqb1vMh",
    "outputId": "364c5373-ea20-4448-c480-dbd5e7b1bfac"
   },
   "outputs": [
    {
     "name": "stderr",
     "output_type": "stream",
     "text": [
      "C:\\Users\\Raj\\AppData\\Local\\Temp\\ipykernel_21788\\788911318.py:1: UserWarning: `Model.fit_generator` is deprecated and will be removed in a future version. Please use `Model.fit`, which supports generators.\n",
      "  model.fit_generator(generator=x_train,steps_per_epoch = len(x_train), epochs=9, validation_data=x_test,validation_steps = len(x_test))\n"
     ]
    },
    {
     "name": "stdout",
     "output_type": "stream",
     "text": [
      "Epoch 1/9\n",
      "480/480 [==============================] - 59s 119ms/step - loss: 1.4447 - accuracy: 0.4776 - val_loss: 1.6418 - val_accuracy: 0.3193\n",
      "Epoch 2/9\n",
      "480/480 [==============================] - 45s 93ms/step - loss: 0.8599 - accuracy: 0.6766 - val_loss: 0.9692 - val_accuracy: 0.7124\n",
      "Epoch 3/9\n",
      "480/480 [==============================] - 47s 98ms/step - loss: 0.3829 - accuracy: 0.8672 - val_loss: 0.7396 - val_accuracy: 0.7821\n",
      "Epoch 4/9\n",
      "480/480 [==============================] - 45s 94ms/step - loss: 0.2592 - accuracy: 0.9160 - val_loss: 0.5272 - val_accuracy: 0.8772\n",
      "Epoch 5/9\n",
      "480/480 [==============================] - 45s 93ms/step - loss: 0.1826 - accuracy: 0.9424 - val_loss: 0.6587 - val_accuracy: 0.8324\n",
      "Epoch 6/9\n",
      "480/480 [==============================] - 51s 107ms/step - loss: 0.1469 - accuracy: 0.9540 - val_loss: 0.5872 - val_accuracy: 0.8359\n",
      "Epoch 7/9\n",
      "480/480 [==============================] - 50s 105ms/step - loss: 0.1197 - accuracy: 0.9622 - val_loss: 0.5282 - val_accuracy: 0.8454\n",
      "Epoch 8/9\n",
      "480/480 [==============================] - 51s 106ms/step - loss: 0.1094 - accuracy: 0.9651 - val_loss: 0.5906 - val_accuracy: 0.8377\n",
      "Epoch 9/9\n",
      "480/480 [==============================] - 51s 106ms/step - loss: 0.1000 - accuracy: 0.9685 - val_loss: 0.6105 - val_accuracy: 0.8526\n"
     ]
    },
    {
     "data": {
      "text/plain": [
       "<keras.callbacks.History at 0x1a78e81ca50>"
      ]
     },
     "execution_count": 39,
     "metadata": {},
     "output_type": "execute_result"
    }
   ],
   "source": [
    "model.fit_generator(generator=x_train,steps_per_epoch = len(x_train), epochs=9, validation_data=x_test,validation_steps = len(x_test))"
   ]
  },
  {
   "cell_type": "code",
   "execution_count": 40,
   "metadata": {
    "id": "oT4IkiMb14dX"
   },
   "outputs": [],
   "source": [
    "#Saving Model.\n",
    "model.save('ECG.h5')"
   ]
  },
  {
   "cell_type": "code",
   "execution_count": 41,
   "metadata": {
    "id": "HRRvd3B34Ooh"
   },
   "outputs": [],
   "source": [
    "#TESTING THE MODEL\n",
    "from tensorflow.keras.models import load_model\n",
    "from tensorflow.keras.preprocessing import image"
   ]
  },
  {
   "cell_type": "code",
   "execution_count": 42,
   "metadata": {
    "id": "G5dQnUG74bxg"
   },
   "outputs": [],
   "source": [
    "model=load_model('ECG.h5')"
   ]
  },
  {
   "cell_type": "code",
   "execution_count": 44,
   "metadata": {
    "id": "NUFjEwCX4ebE"
   },
   "outputs": [],
   "source": [
    "img=image.load_img(r\"C:\\Users\\Raj\\Desktop\\SI-GuidedProject-78335-1656736746-main\\training/Unknown_image.png\",target_size=(64,64))"
   ]
  },
  {
   "cell_type": "code",
   "execution_count": 45,
   "metadata": {
    "id": "xW7n8kHX5HVi"
   },
   "outputs": [],
   "source": [
    "x=image.img_to_array(img)"
   ]
  },
  {
   "cell_type": "code",
   "execution_count": 46,
   "metadata": {
    "id": "ZRy7SN0i5J2d"
   },
   "outputs": [],
   "source": [
    "import numpy as np"
   ]
  },
  {
   "cell_type": "code",
   "execution_count": 47,
   "metadata": {
    "id": "XfgpZ9I85PS0"
   },
   "outputs": [],
   "source": [
    "x=np.expand_dims(x,axis=0)"
   ]
  },
  {
   "cell_type": "code",
   "execution_count": 48,
   "metadata": {
    "colab": {
     "base_uri": "https://localhost:8080/"
    },
    "id": "N60aZ9xf5RI-",
    "outputId": "5dd6f938-3b8f-4db4-f2e9-d69767f55863"
   },
   "outputs": [
    {
     "name": "stdout",
     "output_type": "stream",
     "text": [
      "1/1 [==============================] - 0s 164ms/step\n"
     ]
    },
    {
     "data": {
      "text/plain": [
       "1"
      ]
     },
     "execution_count": 48,
     "metadata": {},
     "output_type": "execute_result"
    }
   ],
   "source": [
    "pred = model.predict(x)\n",
    "y_pred=np.argmax(pred)\n",
    "y_pred"
   ]
  },
  {
   "cell_type": "code",
   "execution_count": 49,
   "metadata": {
    "colab": {
     "base_uri": "https://localhost:8080/",
     "height": 36
    },
    "id": "U_zBt0iq5Tbd",
    "outputId": "2709e552-9a0d-4f58-9c29-c649b730bfcb"
   },
   "outputs": [
    {
     "data": {
      "text/plain": [
       "'Normal'"
      ]
     },
     "execution_count": 49,
     "metadata": {},
     "output_type": "execute_result"
    }
   ],
   "source": [
    "index=['left Bundle Branch block',\n",
    "       'Normal',\n",
    "       'Premature Atrial Contraction',\n",
    "       'Premature Ventricular Contraction',\n",
    "       'Right Bundle Branch Block',\n",
    "       'Ventricular Fibrillation']\n",
    "result = str(index[y_pred])\n",
    "result"
   ]
  },
  {
   "cell_type": "code",
   "execution_count": null,
   "metadata": {
    "id": "uNS00SOf5aFW"
   },
   "outputs": [],
   "source": []
  }
 ],
 "metadata": {
  "colab": {
   "name": "CNN_ECG.ipynb",
   "provenance": []
  },
  "kernelspec": {
   "display_name": "Python 3 (ipykernel)",
   "language": "python",
   "name": "python3"
  },
  "language_info": {
   "codemirror_mode": {
    "name": "ipython",
    "version": 3
   },
   "file_extension": ".py",
   "mimetype": "text/x-python",
   "name": "python",
   "nbconvert_exporter": "python",
   "pygments_lexer": "ipython3",
   "version": "3.11.2"
  }
 },
 "nbformat": 4,
 "nbformat_minor": 1
}
